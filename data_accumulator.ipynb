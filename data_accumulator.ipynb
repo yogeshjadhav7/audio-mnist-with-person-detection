{
 "cells": [
  {
   "cell_type": "code",
   "execution_count": 1,
   "metadata": {},
   "outputs": [],
   "source": [
    "import os\n",
    "import librosa\n",
    "import numpy as np\n",
    "import pandas as pd \n",
    "import warnings\n",
    "warnings.filterwarnings(\"ignore\")\n",
    "\n",
    "N_PEOPLE = 4\n",
    "N_DIGITS = 10\n",
    "PEOPLE = {\"jackson\":0, \"nicolas\":1, \"theo\":2, \"other\":3}"
   ]
  },
  {
   "cell_type": "code",
   "execution_count": 2,
   "metadata": {},
   "outputs": [],
   "source": [
    "def wav2mfcc(file_path, max_pad_len=25):\n",
    "    wave, sr = librosa.load(file_path, mono=True, sr=None)\n",
    "    wave = wave[::3]\n",
    "    mfcc = librosa.feature.mfcc(wave, sr=16000)\n",
    "    pad_width = max_pad_len - mfcc.shape[1]\n",
    "    mfcc = np.pad(mfcc, pad_width=((0, 0), (0, pad_width)), mode='constant')\n",
    "    return mfcc"
   ]
  },
  {
   "cell_type": "code",
   "execution_count": 3,
   "metadata": {},
   "outputs": [],
   "source": [
    "def extract_name_digit(file):\n",
    "    parts = file.split(\"_\")\n",
    "    digit = int(parts[0])\n",
    "    name = parts[1]\n",
    "    if PEOPLE.get(name) == None:\n",
    "        name = \"other\"\n",
    "        \n",
    "    return name, digit"
   ]
  },
  {
   "cell_type": "code",
   "execution_count": 4,
   "metadata": {},
   "outputs": [],
   "source": [
    "def extract_labels(name, digit):\n",
    "    label = np.zeros((1, N_PEOPLE * N_DIGITS), dtype=np.float32)\n",
    "    index = PEOPLE.get(name) * N_DIGITS + digit\n",
    "    label[0, index] = 1.0\n",
    "    return label"
   ]
  },
  {
   "cell_type": "code",
   "execution_count": 5,
   "metadata": {},
   "outputs": [],
   "source": [
    "def save_numpy_array_tocsv(file_name, arr, cols):\n",
    "    pd.DataFrame(arr).to_csv(file_name, sep=',', index=False, columns=cols)"
   ]
  },
  {
   "cell_type": "code",
   "execution_count": 6,
   "metadata": {},
   "outputs": [],
   "source": [
    "def wav_info_extractor(dirpath, ext):\n",
    "    path = \"./\" + dirpath\n",
    "    mfcc_vectors = []\n",
    "    label_vectors = []\n",
    "    digit_vectors = []\n",
    "    file_vectors = []\n",
    "    for file in os.listdir(path):\n",
    "        if file.endswith(ext):\n",
    "            file_path = os.path.join(path, file)\n",
    "            \n",
    "            mfcc = wav2mfcc(file_path=file_path)\n",
    "            mfcc_vectors.append(mfcc)\n",
    "            \n",
    "            name, digit = extract_name_digit(file)\n",
    "            label = extract_labels(name, digit)\n",
    "            label_vectors.append(label)\n",
    "            \n",
    "            digit_vectors.append(digit)\n",
    "            file_vectors.append(file_path)\n",
    "    \n",
    "    features = np.array(mfcc_vectors)\n",
    "    features = np.reshape(features, (features.shape[0], features.shape[1] * features.shape[2]))\n",
    "    \n",
    "    labels = np.array(label_vectors) \n",
    "    labels = np.reshape(labels, (labels.shape[0], labels.shape[1] * labels.shape[2]))\n",
    "    \n",
    "    digits = np.array(digit_vectors)\n",
    "    digits = np.reshape(digits, (digits.shape[0], 1))\n",
    "    \n",
    "    files = np.array(file_vectors)\n",
    "    \n",
    "    return features, labels, digits, files"
   ]
  },
  {
   "cell_type": "code",
   "execution_count": 7,
   "metadata": {},
   "outputs": [],
   "source": [
    "features, labels, digits, files = wav_info_extractor(dirpath=\"recordings/\", ext=\".wav\")"
   ]
  },
  {
   "cell_type": "code",
   "execution_count": 8,
   "metadata": {},
   "outputs": [],
   "source": [
    "from sklearn.preprocessing import StandardScaler\n",
    "scalar = StandardScaler()\n",
    "features = scalar.fit_transform(features)"
   ]
  },
  {
   "cell_type": "code",
   "execution_count": 9,
   "metadata": {},
   "outputs": [],
   "source": [
    "save_numpy_array_tocsv(file_name=\"features.csv\", arr=features, cols=[x for x in range(features.shape[1])])\n",
    "save_numpy_array_tocsv(file_name=\"labels.csv\", arr=labels, cols=[x for x in range(labels.shape[1])])\n",
    "save_numpy_array_tocsv(file_name=\"digits.csv\", arr=digits, cols=[x for x in range(digits.shape[1])])\n",
    "save_numpy_array_tocsv(file_name=\"files.csv\", arr=files, cols=[0])"
   ]
  },
  {
   "cell_type": "code",
   "execution_count": null,
   "metadata": {},
   "outputs": [],
   "source": []
  }
 ],
 "metadata": {
  "kernelspec": {
   "display_name": "Python 3",
   "language": "python",
   "name": "python3"
  },
  "language_info": {
   "codemirror_mode": {
    "name": "ipython",
    "version": 3
   },
   "file_extension": ".py",
   "mimetype": "text/x-python",
   "name": "python",
   "nbconvert_exporter": "python",
   "pygments_lexer": "ipython3",
   "version": "3.6.4"
  }
 },
 "nbformat": 4,
 "nbformat_minor": 2
}
